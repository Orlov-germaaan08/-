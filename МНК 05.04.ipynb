{
 "cells": [
  {
   "cell_type": "code",
   "execution_count": 1,
   "id": "a5161c23",
   "metadata": {},
   "outputs": [],
   "source": [
    "import numpy as np\n",
    "import pandas as pd\n",
    "df = pd.read_csv('train.csv')"
   ]
  },
  {
   "cell_type": "code",
   "execution_count": 2,
   "id": "52c60d05",
   "metadata": {},
   "outputs": [],
   "source": [
    "df = df.drop('index', axis=1)"
   ]
  },
  {
   "cell_type": "code",
   "execution_count": 3,
   "id": "8f4927b1",
   "metadata": {},
   "outputs": [],
   "source": [
    "X = df.drop('target',axis=1)\n",
    "Y = df['target']"
   ]
  },
  {
   "cell_type": "code",
   "execution_count": 4,
   "id": "509bef35",
   "metadata": {},
   "outputs": [],
   "source": [
    "X = np.c_[np.ones(X.shape[0]), X]\n",
    "\n",
    "# Решение линейной регрессии методом наименьших квадратов\n",
    "res = np.linalg.lstsq(X, Y, rcond=None)[0]"
   ]
  },
  {
   "cell_type": "code",
   "execution_count": 6,
   "id": "3bc164ff",
   "metadata": {},
   "outputs": [
    {
     "data": {
      "text/plain": [
       "array([-1.06919083e+00, -1.59621173e+04,  8.78445782e+05, -4.55565877e+04,\n",
       "        5.87586430e+05, -1.51155999e+05,  5.49343182e+05, -2.49577847e+05,\n",
       "       -2.95940618e+05,  1.52746971e+06,  2.20883884e+05,  2.68284875e+05,\n",
       "       -1.64272573e+05, -9.39088089e+05, -4.66067223e+05, -9.31444946e+04,\n",
       "       -2.12745560e+05,  1.44281352e+05, -2.47314015e+04, -8.38326415e+05,\n",
       "       -1.61126445e+05,  3.92524691e+05, -2.40754800e+05,  4.41762196e+04,\n",
       "       -7.17206885e+05,  1.88679496e+05, -7.83226254e+05, -1.14782037e+06,\n",
       "       -1.02805829e+05, -4.03049700e+05, -3.26302241e+04, -7.03376347e+05,\n",
       "       -6.22492623e+05, -1.81632183e+05, -3.57302520e+05, -5.85370960e+05,\n",
       "        1.56757320e+05,  1.27487583e+04, -5.48708994e+04, -5.45142096e+05,\n",
       "        1.65577283e+05, -3.79584103e+05, -7.50407689e+05, -1.05107165e+06,\n",
       "        1.81432000e+05, -1.19561143e+05,  7.66488571e+04,  1.77184689e+05,\n",
       "       -5.05437336e+05,  1.04901350e+05,  5.46873863e+05,  4.94287954e+04,\n",
       "        2.29576725e+05, -4.67026758e+04, -2.59626503e+05, -2.29246082e+05])"
      ]
     },
     "execution_count": 6,
     "metadata": {},
     "output_type": "execute_result"
    }
   ],
   "source": [
    "res"
   ]
  },
  {
   "cell_type": "code",
   "execution_count": 7,
   "id": "3a902bc7",
   "metadata": {},
   "outputs": [
    {
     "data": {
      "text/plain": [
       "array([-1.18892483e-03, -1.59621184e+04,  8.78445801e+05, -4.55565888e+04,\n",
       "        5.87586441e+05, -1.51156005e+05,  5.49343183e+05, -2.49577852e+05,\n",
       "       -2.95940604e+05,  1.52746971e+06,  2.20883885e+05,  2.68284884e+05,\n",
       "       -1.64272579e+05, -9.39088087e+05, -4.66067219e+05, -9.31444808e+04,\n",
       "       -2.12745555e+05,  1.44281350e+05, -2.47314018e+04, -8.38326419e+05,\n",
       "       -1.61126447e+05,  3.92524684e+05, -2.40754799e+05,  4.41762187e+04,\n",
       "       -7.17206874e+05,  1.88679496e+05, -7.83226246e+05, -1.14782037e+06,\n",
       "       -1.02805840e+05, -4.03049688e+05, -3.26302224e+04, -7.03376358e+05,\n",
       "       -6.22492623e+05, -1.81632186e+05, -3.57302531e+05, -5.85370961e+05,\n",
       "        1.56757328e+05,  1.27487580e+04, -5.48708981e+04, -5.45142080e+05,\n",
       "        1.65577275e+05, -3.79584105e+05, -7.50407702e+05, -1.05107165e+06,\n",
       "        1.81431999e+05, -1.19561151e+05,  7.66488564e+04,  1.77184688e+05,\n",
       "       -5.05437339e+05,  1.04901354e+05,  5.46873870e+05,  4.94287952e+04,\n",
       "        2.29576721e+05, -4.67026811e+04, -2.59626518e+05, -2.29246081e+05])"
      ]
     },
     "execution_count": 7,
     "metadata": {},
     "output_type": "execute_result"
    }
   ],
   "source": [
    "from sklearn.model_selection import train_test_split\n",
    "from sklearn.linear_model import LinearRegression\n",
    "train_X_1, test_X_1, train_y, test_y = train_test_split(X,Y, test_size=0.33, random_state=42)\n",
    "\n",
    "model = LinearRegression()\n",
    "reg = model.fit(X, Y)\n",
    "\n",
    "model.coef_"
   ]
  },
  {
   "cell_type": "code",
   "execution_count": null,
   "id": "6654b61f",
   "metadata": {},
   "outputs": [],
   "source": []
  }
 ],
 "metadata": {
  "kernelspec": {
   "display_name": "Python 3 (ipykernel)",
   "language": "python",
   "name": "python3"
  },
  "language_info": {
   "codemirror_mode": {
    "name": "ipython",
    "version": 3
   },
   "file_extension": ".py",
   "mimetype": "text/x-python",
   "name": "python",
   "nbconvert_exporter": "python",
   "pygments_lexer": "ipython3",
   "version": "3.9.13"
  }
 },
 "nbformat": 4,
 "nbformat_minor": 5
}
